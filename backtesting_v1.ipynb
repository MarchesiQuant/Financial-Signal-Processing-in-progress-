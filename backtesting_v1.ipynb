{
 "cells": [
  {
   "cell_type": "code",
   "execution_count": null,
   "metadata": {},
   "outputs": [],
   "source": [
    "# Hay que depurar la lista de acciones para que solo aparezcan las que cotizan en las fechas seleccionadas.\n",
    "# Por ejemplo, solo incluir las empresas que llevan cotizando desde el año x (hasta hoy)"
   ]
  },
  {
   "cell_type": "code",
   "execution_count": null,
   "metadata": {},
   "outputs": [],
   "source": [
    "# SECCION 1: Inicializacion y descarga de datos \n",
    "\n",
    "from functions_bt import test, opt, index_epoch\n",
    "import pandas as pd\n",
    "import yfinance as yf\n",
    "import numpy as np\n",
    "\n",
    "# Devuelve un df con todos los tickers \n",
    "N = 200\n",
    "xls = r'C:\\Users\\Usuario\\Desktop\\TFG\\S&P 500 Companies (Standard and Poor 500).xlsx'\n",
    "tickers = list(pd.read_excel(xls)['Symbol'][0:N])\n",
    "\n",
    "# Inicializamos el periodo de analisis\n",
    "start = '2000-01-01'; end = '2023-01-01'\n",
    "timeperiod = pd.date_range(start = start, end = end, freq='B')\n",
    "T = len(timeperiod)\n",
    "\n",
    "# Inicializamos curva de equity\n",
    "equity = pd.DataFrame({'Capital':0, 'Retorno Acumulado':0}, index = timeperiod)\n",
    "\n",
    "# Descarga de los datos \n",
    "df = yf.download(tickers,start = start, end = end, show_errors=False)\n",
    "df.dropna(axis=1, inplace=True)\n",
    "tickers_d = df['Close'].columns.tolist()\n",
    "print(f'Se han descartado {N-len(tickers_d)} de {N} tickers')"
   ]
  },
  {
   "cell_type": "code",
   "execution_count": null,
   "metadata": {},
   "outputs": [],
   "source": [
    "# SECCION 2: PROCESO ITERATIVO: \n",
    "# NOTA: solo se esta teniendo en cuenta una variable a optimizar\n",
    "\n",
    "# Inicializar las variables del bt:\n",
    "\n",
    "epochs = 2                                  # Numero de epocas, cada epoca contiene optimizacion y test \n",
    "ratio = 1/3                                 # Proporcion periodos de optimizacion y test (optimizacion > test)\n",
    "cons = list(np.arange(0.01,0.25,0.01))      # Restricciones de la optimizacion (de nuevo, solo una variable)\n",
    "\n",
    "# Inicializar bases de datos: hiperparametros del sistema y parametros del backtesting\n",
    "best_params_df = pd.DataFrame(index = tickers_d, columns = [f'Epoch{a}' for a in range(epochs)])\n",
    "returns_df = pd.DataFrame(index = tickers_d, columns = [f'Epoch{a}' for a in range(epochs)])\n",
    "vol_df = pd.DataFrame(index = tickers_d, columns = [f'Epoch{a}' for a in range(epochs)])\n",
    "trades_df = pd.DataFrame(index = tickers_d, columns = [f'Epoch{a}' for a in range(epochs)])\n",
    "\n",
    "for i in range(len(epochs)-1):\n",
    "    \n",
    "    # Indexa los datos correspondientes a cada epoca para el test y la optimizacion\n",
    "    test_df, opt_df = index_epoch(df, epochs, ratio, i)\n",
    "\n",
    "    # **** Inicio del proceso de optimizacion ****\n",
    "    for j in range(len(tickers_d)):\n",
    "\n",
    "        # Indexa la accion correspondiente para el periodo de optimizacion\n",
    "        opt_stock = opt_df.xs(tickers_d[j], axis=1, level=1)\n",
    "\n",
    "        # Optimiza y obtiene los mejores parametros de optimizacion\n",
    "        best_params_df.iloc[j,i] = opt(opt_stock, strategy, cons, method = 'grid', goal = 'Return (Ann.) [%]', com = 0)\n",
    "\n",
    "    # **** Inicio del test ****\n",
    "    for k in range(tickers_d):\n",
    "        test_stock = test_df.xs(tickers_d[j], axis=1, level=1)\n",
    "        equity, mu, sigma, ntrades = test(test_stock, strategy, com = 0) \n",
    "        returns_df.iloc[k,i] = mu; vol_df.iloc[k,i] = sigma; trades_df.iloc[k,i] = ntrades\n",
    "            \n",
    "        # Aqui hay que armonizar la curva de equity y almacenar los parámetros del test  \n",
    "\n",
    "    # Almacenar los datos del test: hiperparametros, curva de equity, resultados... de toda la muestra"
   ]
  },
  {
   "cell_type": "code",
   "execution_count": null,
   "metadata": {},
   "outputs": [],
   "source": [
    "# SECCION 3: DISPLAY DE LOS RESULTADOS\n",
    "\n",
    "# Plot de la curva de equity separada en epocas \n",
    "# Tabla comparativa con los mejores hiperparametros de cada epoca y resultados del sistema\n"
   ]
  }
 ],
 "metadata": {
  "kernelspec": {
   "display_name": "pyenv",
   "language": "python",
   "name": "python3"
  },
  "language_info": {
   "codemirror_mode": {
    "name": "ipython",
    "version": 3
   },
   "file_extension": ".py",
   "mimetype": "text/x-python",
   "name": "python",
   "nbconvert_exporter": "python",
   "pygments_lexer": "ipython3",
   "version": "3.9.13"
  },
  "orig_nbformat": 4
 },
 "nbformat": 4,
 "nbformat_minor": 2
}
